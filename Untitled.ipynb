{
 "cells": [
  {
   "cell_type": "code",
   "execution_count": 10,
   "id": "9e3ce9d9-d686-42c7-bdac-be70d00ace71",
   "metadata": {},
   "outputs": [
    {
     "data": {
      "text/plain": [
       "99874"
      ]
     },
     "execution_count": 10,
     "metadata": {},
     "output_type": "execute_result"
    }
   ],
   "source": [
    "from scipy.optimize import fsolve\n",
    "\n",
    "\n",
    "\n",
    "# Adjusted function to match the number of equations with unknowns for fsolve\n",
    "\n",
    "def equations_adjusted(vars):\n",
    "\n",
    "    TP, FP, TN, FN = vars\n",
    "\n",
    "    \n",
    "\n",
    "    # Total values for positive and negative samples\n",
    "\n",
    "    total_positive = 50000  # Positives\n",
    "\n",
    "    total_negative = 50000  # Negatives\n",
    "\n",
    "    \n",
    "\n",
    "    # System of four equations to solve for TP, FP, TN, FN\n",
    "\n",
    "    eq1 = TP + TN - 80410                             # From Accuracy\n",
    "\n",
    "    eq2 = TP - 0.8518 * (TP + FP)                     # From Precision\n",
    "\n",
    "    eq3 = TP - 0.7324 * (TP + FN)                     # From Recall\n",
    "\n",
    "    eq4 = TN - 0.8759 * (TN + FP)                     # From Specificity\n",
    "\n",
    "\n",
    "    \n",
    "\n",
    "    return [eq1, eq2, eq3, eq4]\n",
    "\n",
    "\n",
    "\n",
    "# Updated initial guesses for TP, FP, TN, FN\n",
    "\n",
    "initial_guesses = [25000, 5000, 30000, 10000]\n",
    "\n",
    "\n",
    "\n",
    "# Solve the equations numerically\n",
    "\n",
    "TP, FP, TN, FN = fsolve(equations_adjusted, initial_guesses)\n",
    "\n",
    "TP, FP, TN, FN\n",
    "\n",
    "int(TP) + int(FP) + int(TN) + int(FN)"
   ]
  },
  {
   "cell_type": "code",
   "execution_count": null,
   "id": "0ab1fd70-3a85-4678-9e83-84920d2ab38a",
   "metadata": {},
   "outputs": [],
   "source": []
  }
 ],
 "metadata": {
  "kernelspec": {
   "display_name": "Python 3 (ipykernel)",
   "language": "python",
   "name": "python3"
  },
  "language_info": {
   "codemirror_mode": {
    "name": "ipython",
    "version": 3
   },
   "file_extension": ".py",
   "mimetype": "text/x-python",
   "name": "python",
   "nbconvert_exporter": "python",
   "pygments_lexer": "ipython3",
   "version": "3.12.7"
  }
 },
 "nbformat": 4,
 "nbformat_minor": 5
}
